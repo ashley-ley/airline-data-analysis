{
 "cells": [
  {
   "cell_type": "code",
   "execution_count": 22,
   "id": "486ec056-28a1-4991-a551-7be4f45b1595",
   "metadata": {
    "tags": []
   },
   "outputs": [],
   "source": [
    "import pandas as pd\n",
    "from pathlib import Path"
   ]
  },
  {
   "cell_type": "code",
   "execution_count": 23,
   "id": "854cb359-4935-44d0-a69e-147e55ab427f",
   "metadata": {
    "tags": []
   },
   "outputs": [],
   "source": [
    "us_weather_path = Path(\"Weather_Data/united_states_weather.csv\")\n",
    "denver_weather_path = Path(\"Weather_Data/den_weather.csv\")"
   ]
  },
  {
   "cell_type": "code",
   "execution_count": null,
   "id": "c28bcc2f-cf0c-41ef-b400-3e92ff1cc5a4",
   "metadata": {
    "tags": []
   },
   "outputs": [],
   "source": [
    "us_weather_df = pd.read_csv(us_weather_path, encoding=\"ISO-8859-1\")"
   ]
  },
  {
   "cell_type": "code",
   "execution_count": null,
   "id": "ea3e0c99-e15e-418e-8949-93c8a48726a1",
   "metadata": {
    "tags": []
   },
   "outputs": [],
   "source": [
    "us_weather_df.head()"
   ]
  },
  {
   "cell_type": "code",
   "execution_count": null,
   "id": "d860a732-a5cf-4566-9bbb-576f1647cc8d",
   "metadata": {
    "tags": []
   },
   "outputs": [],
   "source": [
    "us_weather_df[us_weather_df['City'] == 'Dallas'].count()\n"
   ]
  },
  {
   "cell_type": "code",
   "execution_count": null,
   "id": "50ead0a5-3c49-4f7d-8e4c-37c788de76c1",
   "metadata": {
    "tags": []
   },
   "outputs": [],
   "source": [
    "dallas_weather = us_weather_df[us_weather_df['City'] == 'Dallas']\n",
    "dallas_weather.head()"
   ]
  },
  {
   "cell_type": "code",
   "execution_count": null,
   "id": "d3124c53-9390-48cc-bd91-7585fea60925",
   "metadata": {
    "tags": []
   },
   "outputs": [],
   "source": [
    "dallas_weather_df = dallas_weather[['EventId','Type','Severity','StartTime(UTC)','AirportCode','LocationLat','LocationLng','City','County','State']]\n",
    "dallas_weather_df"
   ]
  },
  {
   "cell_type": "code",
   "execution_count": null,
   "id": "6a0a6278-39c1-48eb-b829-6d29ad0e6848",
   "metadata": {
    "tags": []
   },
   "outputs": [],
   "source": [
    "# Assuming 'StartTime(UTC)' column is in datetime format\n",
    "dallas_weather_df['StartTime(UTC)'] = pd.to_datetime(us_weather_df['StartTime(UTC)'])"
   ]
  },
  {
   "cell_type": "code",
   "execution_count": null,
   "id": "b86fc215-f90d-45a8-87f5-30533d28f582",
   "metadata": {
    "tags": []
   },
   "outputs": [],
   "source": [
    "dallas_weather_df_2022 = dallas_weather_df[dallas_weather_df['StartTime(UTC)'].dt.year == 2022]\n",
    "dallas_weather_df_2022.head()"
   ]
  },
  {
   "cell_type": "code",
   "execution_count": null,
   "id": "88ec06b2-b612-4039-98a9-ae130e2212a8",
   "metadata": {
    "tags": []
   },
   "outputs": [],
   "source": [
    "dallas_weather_df_2022.to_csv('Weather_Data/dallas_weather_2022.csv')"
   ]
  },
  {
   "cell_type": "code",
   "execution_count": null,
   "id": "f4f16a41-aa1d-4fd8-9e4b-c307c80fbef1",
   "metadata": {},
   "outputs": [],
   "source": [
    "denver_weather_df = pd.read_csv(denver_weather_path, encoding=\"ISO-8859-1\")\n",
    "denver_weather_df.head()"
   ]
  },
  {
   "cell_type": "code",
   "execution_count": null,
   "id": "e2ec7ce9-a177-41c0-87fb-f18ee85a089b",
   "metadata": {},
   "outputs": [],
   "source": [
    "denver_weather_updated = denver_weather_df[['EventId','Type','Severity','StartTime(UTC)','AirportCode','LocationLat','LocationLng','City','County','State']]\n",
    "denver_weather_updated"
   ]
  },
  {
   "cell_type": "code",
   "execution_count": null,
   "id": "8cf89351-8bd4-4c00-9f20-2ef004240225",
   "metadata": {
    "tags": []
   },
   "outputs": [],
   "source": [
    "denver_weather_updated.to_csv('Weather_Data/denver_weather_2022.csv')"
   ]
  }
 ],
 "metadata": {
  "kernelspec": {
   "display_name": "Python 3 (ipykernel)",
   "language": "python",
   "name": "python3"
  },
  "language_info": {
   "codemirror_mode": {
    "name": "ipython",
    "version": 3
   },
   "file_extension": ".py",
   "mimetype": "text/x-python",
   "name": "python",
   "nbconvert_exporter": "python",
   "pygments_lexer": "ipython3",
   "version": "3.10.11"
  }
 },
 "nbformat": 4,
 "nbformat_minor": 5
}
